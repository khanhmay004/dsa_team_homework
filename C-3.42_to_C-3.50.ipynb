{
 "cells": [
  {
   "cell_type": "markdown",
   "metadata": {},
   "source": [
    "C-3.42 \n",
    "- Bob built a Web site and gave the URL only to his n friends, which he\n",
    "numbered from 1 to n. He told friend number i that he/she can visit the\n",
    "Web site at most i times. Now Bob has a counter, C, keeping track of the\n",
    "total number of visits to the site (but not the identities of who visits). What\n",
    "is the minimum value for C such that Bob can know that one of his friends\n",
    "has visited his/her maximum allowed number of times?"
   ]
  },
  {
   "cell_type": "code",
   "execution_count": null,
   "metadata": {},
   "outputs": [],
   "source": [
    "#C-3.42 \n",
    "\"\"\"Bob built a Web site and gave the URL only to his n friends, which he\n",
    "numbered from 1 to n. He told friend number i that he/she can visit the\n",
    "Web site at most i times. Now Bob has a counter, C, keeping track of the\n",
    "total number of visits to the site (but not the identities of who visits). What\n",
    "is the minimum value for C such that Bob can know that one of his friends\n",
    "has visited his/her maximum allowed number of times?\"\"\"\n"
   ]
  },
  {
   "cell_type": "code",
   "execution_count": 5,
   "metadata": {},
   "outputs": [
    {
     "data": {
      "text/latex": [
       "Consider the maximum total number of visits when each person has not reached their maximum visitation limit. Since \\(i=1,2,\\ldots,n\\), the maximum number of visits for each person when they have not reached their maximum limit is sequentially \\(j=0,1,\\ldots,(n-1)\\). Summing up \\(j\\) yields \\(\\frac{n(n-1)}{2}\\). Therefore, when the total visit count \\(C=1+\\frac{n(n-1)}{2}\\), it can be concluded that at least one person has reached their maximum visitation limit.\n"
      ],
      "text/plain": [
       "<IPython.core.display.Latex object>"
      ]
     },
     "metadata": {},
     "output_type": "display_data"
    }
   ],
   "source": [
    "%%latex\n",
    "Consider the maximum total number of visits when each person has not reached their maximum visitation limit. Since \\(i=1,2,\\ldots,n\\), the maximum number of visits for each person when they have not reached their maximum limit is sequentially \\(j=0,1,\\ldots,(n-1)\\). Summing up \\(j\\) yields \\(\\frac{n(n-1)}{2}\\). Therefore, when the total visit count \\(C=1+\\frac{n(n-1)}{2}\\), it can be concluded that at least one person has reached their maximum visitation limit."
   ]
  },
  {
   "cell_type": "markdown",
   "metadata": {},
   "source": [
    "C-3.43 Draw a visual justification of Proposition 3.3 analogous to that of Figure\n",
    "3.3(b) for the case when n is odd."
   ]
  },
  {
   "cell_type": "markdown",
   "metadata": {},
   "source": [
    "C-3.44\n",
    "a. Suppose that the eavesdropper uses the above algorithm and has a\n",
    "computer that can carry out in 1 microsecond (1 millionth of a second)\n",
    "a division between two integers of up to 100 bits each. Give an\n",
    "estimate of the time that it will take in the worst case to decipher the\n",
    "secret message p if the transmitted message r has 100 bits."
   ]
  },
  {
   "cell_type": "markdown",
   "metadata": {},
   "source": [
    "%%latex\n",
    "The worst case is the algorithm has to iterate through all numbers from 2 to \\(r\\) to check if any number divides \\(r\\). For a transmitted message \\(r\\) with 100 bits, the range of values for \\(r\\) is from \\(2^{99}\\) to \\(2^{100} - 1\\). The worst-case scenario requires looping through \\(2^{99}\\) numbers. So, the total time is:\n",
    "\\[ \\text{Total time} \\approx \\frac{2^{99}}{1,000,000} \\text{ seconds} \\]\n"
   ]
  },
  {
   "cell_type": "code",
   "execution_count": 7,
   "metadata": {},
   "outputs": [
    {
     "data": {
      "text/latex": [
       "The worst case is the algorithm has to iterate through all numbers from 2 to \\(r\\) to check if any number divides \\(r\\). For a transmitted message \\(r\\) with 100 bits, the range of values for \\(r\\) is from \\(2^{99}\\) to \\(2^{100} - 1\\). The worst-case scenario requires looping through \\(2^{99}\\) numbers. So, the total time is:\n",
       "\\[ \\text{Total time} \\approx \\frac{2^{99}}{1000000} \\text{ seconds} \\]\n"
      ],
      "text/plain": [
       "<IPython.core.display.Latex object>"
      ]
     },
     "metadata": {},
     "output_type": "display_data"
    }
   ],
   "source": [
    "%%latex\n",
    "The worst case is the algorithm has to iterate through all numbers from 2 to \\(r\\) to check if any number divides \\(r\\). For a transmitted message \\(r\\) with 100 bits, the range of values for \\(r\\) is from \\(2^{99}\\) to \\(2^{100} - 1\\). The worst-case scenario requires looping through \\(2^{99}\\) numbers. So, the total time is:\n",
    "\\[ \\text{Total time} \\approx \\frac{2^{99}}{1000000} \\text{ seconds} \\]"
   ]
  },
  {
   "cell_type": "code",
   "execution_count": 8,
   "metadata": {},
   "outputs": [
    {
     "data": {
      "text/latex": [
       "The worst-case time complexity of the given naive factoring algorithm is \\(O(r)\\), where \\(r\\) is the value being factored. In terms of the input size \\(n\\), which is the number of bytes needed to store \\(r\\), the time complexity is \\(O(n)\\).\n"
      ],
      "text/plain": [
       "<IPython.core.display.Latex object>"
      ]
     },
     "metadata": {},
     "output_type": "display_data"
    }
   ],
   "source": [
    "%%latex\n",
    "The worst-case time complexity of the given naive factoring algorithm is \\(O(r)\\), where \\(r\\) is the value being factored. In terms of the input size \\(n\\), which is the number of bytes needed to store \\(r\\), the time complexity is \\(O(n)\\)."
   ]
  },
  {
   "cell_type": "markdown",
   "metadata": {},
   "source": [
    "C-3.45 A sequence S contains n−1 unique integers in the range [0,n−1], that\n",
    "is, there is one number from this range that is not in S. Design an O(n)-\n",
    "time algorithm for finding that number."
   ]
  },
  {
   "cell_type": "code",
   "execution_count": 12,
   "metadata": {},
   "outputs": [],
   "source": [
    "def find_number(Seque):\n",
    "    n = len(Seque) + 1 #original length of S\n",
    "    total_sum = (n * (n - 1)) // 2 #sum of first n natural numbers\n",
    "    missing_number = total_sum - sum(Seque)\n",
    "    return missing_number"
   ]
  },
  {
   "cell_type": "code",
   "execution_count": 11,
   "metadata": {},
   "outputs": [
    {
     "data": {
      "text/plain": [
       "3"
      ]
     },
     "execution_count": 11,
     "metadata": {},
     "output_type": "execute_result"
    }
   ],
   "source": [
    "find_number([0, 1, 2, 4])"
   ]
  },
  {
   "cell_type": "markdown",
   "metadata": {},
   "source": [
    "C-3.46 Al says he can prove that all sheep in a flock are the same color:\n",
    "Base case: One sheep. It is clearly the same color as itself.\n",
    "Induction step: A flock of n sheep. Take a sheep, a, out. The remaining\n",
    "n−1 are all the same color by induction. Now put sheep a back in and\n",
    "take out a different sheep, b. By induction, the n−1 sheep (now with a)\n",
    "are all the same color. Therefore, all the sheep in the flock are the same\n",
    "color. What is wrong with Al’s “justification”?"
   ]
  },
  {
   "cell_type": "code",
   "execution_count": 13,
   "metadata": {},
   "outputs": [
    {
     "data": {
      "text/latex": [
       "Considering the case n = 2.  Al takes one sheep out, leaving one sheep, which is trivially of the same color as itself. However, in the induction step, he takes another sheep out (sheep b), assuming that the remaining sheep (with a) are now all the same color. This assumption is incorrect because there are only two sheep, and it's not guaranteed that they are the same color.\n",
       "\n",
       "Inductive reasoning requires a valid step from n to n+1, but in this case, the step from n=1 to n=2 is where the logic breaks down. The assumption made when n=2 does not hold true, and therefore, the induction step is not valid.\n"
      ],
      "text/plain": [
       "<IPython.core.display.Latex object>"
      ]
     },
     "metadata": {},
     "output_type": "display_data"
    }
   ],
   "source": [
    "%%latex\n",
    "Considering the case n = 2.  Al takes one sheep out, leaving one sheep, which is trivially of the same color as itself. However, in the induction step, he takes another sheep out (sheep b), assuming that the remaining sheep (with a) are now all the same color. This assumption is incorrect because there are only two sheep, and it's not guaranteed that they are the same color.\n",
    "\n",
    "Inductive reasoning requires a valid step from n to n+1, but in this case, the step from n=1 to n=2 is where the logic breaks down. The assumption made when n=2 does not hold true, and therefore, the induction step is not valid."
   ]
  },
  {
   "cell_type": "markdown",
   "metadata": {},
   "source": [
    "C-3.47 Let S be a set of n lines in the plane such that no two are parallel and\n",
    "no three meet in the same point. Show, by induction, that the lines in S\n",
    "determine Θ(n2) intersection points."
   ]
  },
  {
   "cell_type": "code",
   "execution_count": 28,
   "metadata": {},
   "outputs": [
    {
     "data": {
      "text/latex": [
       "\n",
       "To prove that a set $S$ of $n$ lines in the plane, where no two lines are parallel and no three lines intersect at the same point, determines $\\Theta(n^2)$ intersection points, we can use induction.\n",
       "\n",
       "Base Case (n=1): For one line, there are no intersection points ($0 \\times \\frac{1}{2} = 0$), which satisfies $\\Theta(n^2)$ for $n=1$.\n",
       "\n",
       "Inductive Step: Assume that the statement is true for $n=k$, where $k$ is some positive integer. That is, a set of $k$ lines determines $\\Theta(k^2)$ intersection points.\n",
       "\n",
       "Now, let's consider adding the $(k+1)$-th line to the set. Since no two lines are parallel and no three lines intersect at the same point, the $(k+1)$-th line will intersect with each of the $k$ lines at a different point.\n",
       "\n",
       "For each of the $k$ lines, the $(k+1)$-th line will contribute $O(k)$ intersection points (linear in $k$).\n",
       "\n",
       "So, the total number of new intersection points introduced by adding the $(k+1)$-th line is $O(k) \\times k = O(k^2)$.\n",
       "\n",
       "Therefore, the total number of intersection points for $n=k+1$ lines is $\\Theta(k^2) + O(k^2) = \\Theta((k+1)^2)$.\n",
       "\n",
       "This completes the induction step, and we have shown that a set of $n$ lines, satisfying the given conditions, determines $\\Theta(n^2)$ intersection points.\n"
      ],
      "text/plain": [
       "<IPython.core.display.Latex object>"
      ]
     },
     "metadata": {},
     "output_type": "display_data"
    }
   ],
   "source": [
    "%%latex\n",
    "\n",
    "To prove that a set $S$ of $n$ lines in the plane, where no two lines are parallel and no three lines intersect at the same point, determines $\\Theta(n^2)$ intersection points, we can use induction.\n",
    "\n",
    "Base Case (n=1): For one line, there are no intersection points ($0 \\times \\frac{1}{2} = 0$), which satisfies $\\Theta(n^2)$ for $n=1$.\n",
    "\n",
    "Inductive Step: Assume that the statement is true for $n=k$, where $k$ is some positive integer. That is, a set of $k$ lines determines $\\Theta(k^2)$ intersection points.\n",
    "\n",
    "Now, let's consider adding the $(k+1)$-th line to the set. Since no two lines are parallel and no three lines intersect at the same point, the $(k+1)$-th line will intersect with each of the $k$ lines at a different point.\n",
    "\n",
    "For each of the $k$ lines, the $(k+1)$-th line will contribute $O(k)$ intersection points (linear in $k$).\n",
    "\n",
    "So, the total number of new intersection points introduced by adding the $(k+1)$-th line is $O(k) \\times k = O(k^2)$.\n",
    "\n",
    "Therefore, the total number of intersection points for $n=k+1$ lines is $\\Theta(k^2) + O(k^2) = \\Theta((k+1)^2)$.\n",
    "\n",
    "This completes the induction step, and we have shown that a set of $n$ lines, satisfying the given conditions, determines $\\Theta(n^2)$ intersection points.\n"
   ]
  },
  {
   "cell_type": "markdown",
   "metadata": {},
   "source": [
    "C-3.48 Consider the following “justification” that the Fibonacci function,..."
   ]
  },
  {
   "cell_type": "code",
   "execution_count": 29,
   "metadata": {},
   "outputs": [
    {
     "data": {
      "text/latex": [
       "The \"justification\" provided contains a flaw in the induction step. The error is in the assumption that if \\(F(n-2)\\) is \\(O(n-2)\\) and \\(F(n-1)\\) is \\(O(n-1)\\), then \\(F(n)\\) is \\(O((n-2) + (n-1))\\).\n",
       "\n",
       "Let's break down the problematic part:\n",
       "\n",
       "\\[ F(n) = F(n-2) + F(n-1) \\]\n",
       "\n",
       "The induction step assumes that \\(F(n-2)\\) is \\(O(n-2)\\) and \\(F(n-1)\\) is \\(O(n-1)\\). However, the claim \\(F(n)\\) is \\(O((n-2) + (n-1))\\) is incorrect.\n",
       "\n",
       "The correct claim should be:\n",
       "\n",
       "\\[ F(n) = O(n-2 + n-1) = O(2n-3) \\]\n",
       "\n",
       "So, the corrected conclusion is that \\(F(n)\\) is \\(O(n)\\), not \\(O((n-2) + (n-1))\\).\n",
       "\n",
       "Therefore, the flaw lies in the incorrect application of the identity presented in Exercise R-3.11, leading to an inaccurate conclusion about the big-O complexity of \\(F(n)\\).\n"
      ],
      "text/plain": [
       "<IPython.core.display.Latex object>"
      ]
     },
     "metadata": {},
     "output_type": "display_data"
    }
   ],
   "source": [
    "%%latex\n",
    "The \"justification\" provided contains a flaw in the induction step. The error is in the assumption that if \\(F(n-2)\\) is \\(O(n-2)\\) and \\(F(n-1)\\) is \\(O(n-1)\\), then \\(F(n)\\) is \\(O((n-2) + (n-1))\\).\n",
    "\n",
    "Let's break down the problematic part:\n",
    "\n",
    "\\[ F(n) = F(n-2) + F(n-1) \\]\n",
    "\n",
    "The induction step assumes that \\(F(n-2)\\) is \\(O(n-2)\\) and \\(F(n-1)\\) is \\(O(n-1)\\). However, the claim \\(F(n)\\) is \\(O((n-2) + (n-1))\\) is incorrect.\n",
    "\n",
    "The correct claim should be:\n",
    "\n",
    "\\[ F(n) = O(n-2 + n-1) = O(2n-3) \\]\n",
    "\n",
    "So, the corrected conclusion is that \\(F(n)\\) is \\(O(n)\\), not \\(O((n-2) + (n-1))\\).\n",
    "\n",
    "Therefore, the flaw lies in the incorrect application of the identity presented in Exercise R-3.11, leading to an inaccurate conclusion about the big-O complexity of \\(F(n)\\).\n"
   ]
  },
  {
   "cell_type": "markdown",
   "metadata": {},
   "source": [
    "C-3.49 Consider the Fibonacci function, F(n) (see Proposition 3.20). Show by\n",
    "induction that F(n) is Ω((3/2)n)."
   ]
  },
  {
   "cell_type": "markdown",
   "metadata": {},
   "source": [
    "The Fibonacci sequence is defined as follows:\n",
    "\n"
   ]
  },
  {
   "cell_type": "code",
   "execution_count": null,
   "metadata": {},
   "outputs": [],
   "source": [
    "F(0) = 0\n",
    "F(1) = 1\n",
    "F(n) = F(n-1) + F(n-2) for n > 1"
   ]
  },
  {
   "cell_type": "markdown",
   "metadata": {},
   "source": [
    "\n",
    "\n",
    "The proposition `F(n) is Ω((3/2)^n)` means that there exists some constant `c` and some `n0` such that for all `n >= n0`, `F(n) >= c * (3/2)^n`.\n",
    "\n",
    "To prove this by induction, we need to show that it holds for some base case, and then show that if it holds for `n`, it also holds for `n+1`.\n",
    "\n",
    "Base case: For `n = 0` and `n = 1`, `F(n) = n`, which is clearly `>= 0 = c * (3/2)^n` for any `c <= n`.\n",
    "\n",
    "Inductive step: Assume `F(n) >= c * (3/2)^n` and `F(n-1) >= c * (3/2)^(n-1)` for some `n >= 1`. We need to show that `F(n+1) >= c * (3/2)^(n+1)`.\n",
    "\n",
    "Since `F(n+1) = F(n) + F(n-1)`, we have `F(n+1) >= c * (3/2)^n + c * (3/2)^(n-1) = c * (3/2)^(n-1) * (3/2 + 1) = c * (3/2)^(n-1) * (5/2)`. \n",
    "\n",
    "For this to be `>= c * (3/2)^(n+1)`, we need `(5/2) >= (3/2)^2 = 9/4`, which is not true. Therefore, the proposition `F(n) is Ω((3/2)^n)` is not true for all `n`.\n",
    "\n",
    "However, if we consider larger base cases, we can find a `c` and `n0` such that the proposition holds. For example, for `n >= 11`, `F(n) >= (3/2)^n`. So, we can say `F(n) is Ω((3/2)^n)` for `n >= 11`."
   ]
  },
  {
   "cell_type": "markdown",
   "metadata": {},
   "source": [
    "C-3.50 Let p(x) be a polynomial of degree n, that is, p(x) = Σni\n",
    "=0 aixi.\n",
    "(a) Describe a simple O(n2)-time algorithm for computing p(x).\n",
    "(b) Describe an O(nlog n)-time algorithm for computing p(x), based upon\n",
    "a more efficient calculation of xi.\n",
    "(c) Now consider a rewriting of p(x) as\n",
    "p(x) = a0+x(a1 +x(a2+x(a3 +· · ·+x(an−1 +xan) · · · ))),\n",
    "which is known as Horner’s method. Using the big-Oh notation, characterize\n",
    "the number of arithmetic operations this method executes."
   ]
  },
  {
   "cell_type": "markdown",
   "metadata": {},
   "source": [
    "(a) A simple O(n^2)-time algorithm for computing p(x) is to calculate each term of the polynomial separately and then add them up. This involves calculating the power of x for each term, which takes O(n) time, and doing this for n terms, which results in O(n^2) time complexity.\n",
    "\n"
   ]
  },
  {
   "cell_type": "code",
   "execution_count": null,
   "metadata": {},
   "outputs": [],
   "source": [
    "def compute_polynomial(a, x):\n",
    "    result = 0\n",
    "    for i in range(len(a)):\n",
    "        result += a[i] * (x ** i)\n",
    "    return result"
   ]
  },
  {
   "cell_type": "markdown",
   "metadata": {},
   "source": [
    "\n",
    "\n",
    "(b) An O(nlogn)-time algorithm for computing p(x) can be achieved by using the \"exponentiation by squaring\" method to calculate x^i more efficiently.\n",
    "\n"
   ]
  },
  {
   "cell_type": "code",
   "execution_count": null,
   "metadata": {},
   "outputs": [],
   "source": [
    "def fast_power(base, power):\n",
    "    result = 1\n",
    "    while power > 0:\n",
    "        if power % 2 == 1:\n",
    "            result *= base\n",
    "        base *= base\n",
    "        power //= 2\n",
    "    return result\n",
    "\n",
    "def compute_polynomial_efficient(a, x):\n",
    "    result = 0\n",
    "    for i in range(len(a)):\n",
    "        result += a[i] * fast_power(x, i)\n",
    "    return result"
   ]
  },
  {
   "cell_type": "markdown",
   "metadata": {},
   "source": [
    "\n",
    "\n",
    "(c) Horner’s method is a method of calculating polynomial values that reduces the number of multiplications and divisions. The time complexity of Horner's method is O(n), because it performs n multiplications and n additions, regardless of the input size.\n",
    "\n"
   ]
  },
  {
   "cell_type": "code",
   "execution_count": null,
   "metadata": {},
   "outputs": [],
   "source": [
    "def horner_method(a, x):\n",
    "    result = a[-1]\n",
    "    for i in range(len(a)-2, -1, -1):\n",
    "        result = result * x + a[i]\n",
    "    return result"
   ]
  },
  {
   "cell_type": "markdown",
   "metadata": {},
   "source": [
    "\n",
    "\n",
    "In the above code, `a` is the list of coefficients of the polynomial, and `x` is the value at which the polynomial is evaluated."
   ]
  },
  {
   "cell_type": "code",
   "execution_count": null,
   "metadata": {},
   "outputs": [],
   "source": []
  }
 ],
 "metadata": {
  "kernelspec": {
   "display_name": "Python 3 (ipykernel)",
   "language": "python",
   "name": "python3"
  },
  "language_info": {
   "codemirror_mode": {
    "name": "ipython",
    "version": 3
   },
   "file_extension": ".py",
   "mimetype": "text/x-python",
   "name": "python",
   "nbconvert_exporter": "python",
   "pygments_lexer": "ipython3",
   "version": "3.11.3"
  },
  "toc": {
   "base_numbering": 1,
   "nav_menu": {},
   "number_sections": true,
   "sideBar": true,
   "skip_h1_title": false,
   "title_cell": "Table of Contents",
   "title_sidebar": "Contents",
   "toc_cell": false,
   "toc_position": {},
   "toc_section_display": true,
   "toc_window_display": false
  }
 },
 "nbformat": 4,
 "nbformat_minor": 2
}
